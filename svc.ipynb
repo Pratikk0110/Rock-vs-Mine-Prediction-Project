{
 "cells": [
  {
   "cell_type": "code",
   "execution_count": 1,
   "id": "83b8bd6a",
   "metadata": {},
   "outputs": [],
   "source": [
    "import pandas as pd\n",
    "import numpy as np\n",
    "from sklearn.model_selection import train_test_split\n",
    "from sklearn.preprocessing import LabelEncoder\n",
    "from sklearn.svm import SVC\n",
    "from sklearn.tree import DecisionTreeClassifier\n",
    "from sklearn.ensemble import RandomForestClassifier\n",
    "from sklearn.metrics import accuracy_score\n",
    "import pickle"
   ]
  },
  {
   "cell_type": "code",
   "execution_count": 2,
   "id": "f82c6fe0",
   "metadata": {},
   "outputs": [],
   "source": [
    "data = pd.read_csv('Copy of sonar data.csv', header=None)"
   ]
  },
  {
   "cell_type": "code",
   "execution_count": 3,
   "id": "c7dc3c5d",
   "metadata": {},
   "outputs": [],
   "source": [
    "X = data.iloc[:, :-1]\n",
    "y = data.iloc[:, -1]"
   ]
  },
  {
   "cell_type": "code",
   "execution_count": 4,
   "id": "83827019",
   "metadata": {},
   "outputs": [],
   "source": [
    "label_encoder = LabelEncoder()\n",
    "y = label_encoder.fit_transform(y)"
   ]
  },
  {
   "cell_type": "code",
   "execution_count": 5,
   "id": "40758f00",
   "metadata": {},
   "outputs": [],
   "source": [
    "X_train, X_test, y_train, y_test = train_test_split(\n",
    "    X, y, test_size=0.2, stratify=y, random_state=42\n",
    ")"
   ]
  },
  {
   "cell_type": "code",
   "execution_count": 6,
   "id": "02ddb0d6",
   "metadata": {},
   "outputs": [
    {
     "name": "stdout",
     "output_type": "stream",
     "text": [
      "SVC Accuracy: 0.8095238095238095\n"
     ]
    }
   ],
   "source": [
    "svc_model = SVC(kernel='linear')\n",
    "svc_model.fit(X_train, y_train)\n",
    "svc_pred = svc_model.predict(X_test)\n",
    "print(\"SVC Accuracy:\", accuracy_score(y_test, svc_pred))"
   ]
  },
  {
   "cell_type": "code",
   "execution_count": 7,
   "id": "ddd40b5d",
   "metadata": {},
   "outputs": [],
   "source": [
    "with open('svc_model.pkl', 'wb') as f:\n",
    "    pickle.dump(svc_model, f)"
   ]
  },
  {
   "cell_type": "code",
   "execution_count": 8,
   "id": "de593ce0",
   "metadata": {},
   "outputs": [
    {
     "name": "stdout",
     "output_type": "stream",
     "text": [
      "Decision Tree Accuracy: 0.7857142857142857\n"
     ]
    }
   ],
   "source": [
    "tree_model = DecisionTreeClassifier(random_state=42)\n",
    "tree_model.fit(X_train, y_train)\n",
    "tree_pred = tree_model.predict(X_test)\n",
    "print(\"Decision Tree Accuracy:\", accuracy_score(y_test, tree_pred))"
   ]
  },
  {
   "cell_type": "code",
   "execution_count": 9,
   "id": "aeaec169",
   "metadata": {},
   "outputs": [],
   "source": [
    "with open('tree_model.pkl', 'wb') as f:\n",
    "    pickle.dump(tree_model, f)"
   ]
  },
  {
   "cell_type": "code",
   "execution_count": 10,
   "id": "69f215cf",
   "metadata": {},
   "outputs": [
    {
     "name": "stdout",
     "output_type": "stream",
     "text": [
      "Random Forest Accuracy: 0.8809523809523809\n"
     ]
    }
   ],
   "source": [
    "forest_model = RandomForestClassifier(n_estimators=100, random_state=42)\n",
    "forest_model.fit(X_train, y_train)\n",
    "forest_pred = forest_model.predict(X_test)\n",
    "print(\"Random Forest Accuracy:\", accuracy_score(y_test, forest_pred))"
   ]
  },
  {
   "cell_type": "code",
   "execution_count": 11,
   "id": "ffd90448",
   "metadata": {},
   "outputs": [],
   "source": [
    "with open('forest_model.pkl', 'wb') as f:\n",
    "    pickle.dump(forest_model, f)"
   ]
  }
 ],
 "metadata": {
  "kernelspec": {
   "display_name": "Python 3",
   "language": "python",
   "name": "python3"
  },
  "language_info": {
   "codemirror_mode": {
    "name": "ipython",
    "version": 3
   },
   "file_extension": ".py",
   "mimetype": "text/x-python",
   "name": "python",
   "nbconvert_exporter": "python",
   "pygments_lexer": "ipython3",
   "version": "3.12.0"
  }
 },
 "nbformat": 4,
 "nbformat_minor": 5
}
